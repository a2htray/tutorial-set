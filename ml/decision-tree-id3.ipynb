{
 "cells": [
  {
   "cell_type": "code",
   "execution_count": 15,
   "id": "initial_id",
   "metadata": {
    "collapsed": true,
    "ExecuteTime": {
     "end_time": "2024-01-17T08:23:58.054181500Z",
     "start_time": "2024-01-17T08:23:58.030190600Z"
    }
   },
   "outputs": [],
   "source": [
    "import pandas as pd\n",
    "import numpy as np"
   ]
  },
  {
   "cell_type": "code",
   "execution_count": 11,
   "outputs": [
    {
     "data": {
      "text/plain": "     饮食习性 胎生动物 水生动物 会飞 哺乳动物\n动物                         \n人类   杂食动物    是    否  否    是\n野猪   杂食动物    是    否  否    是\n狮子   肉食动物    是    否  否    是\n苍鹰   肉食动物    否    否  是    否\n鳄鱼   肉食动物    否    是  否    否\n巨蜥   肉食动物    否    否  否    否\n蝙蝠   杂食动物    是    否  是    是\n野牛   草食动物    是    否  否    是\n麻雀   杂食动物    否    否  是    否\n鲨鱼   肉食动物    否    是  否    否\n海豚   肉食动物    是    是  否    是\n鸭嘴兽  肉食动物    否    否  否    是\n袋鼠   草食动物    是    否  否    是\n蟒蛇   肉食动物    否    否  否    否",
      "text/html": "<div>\n<style scoped>\n    .dataframe tbody tr th:only-of-type {\n        vertical-align: middle;\n    }\n\n    .dataframe tbody tr th {\n        vertical-align: top;\n    }\n\n    .dataframe thead th {\n        text-align: right;\n    }\n</style>\n<table border=\"1\" class=\"dataframe\">\n  <thead>\n    <tr style=\"text-align: right;\">\n      <th></th>\n      <th>饮食习性</th>\n      <th>胎生动物</th>\n      <th>水生动物</th>\n      <th>会飞</th>\n      <th>哺乳动物</th>\n    </tr>\n    <tr>\n      <th>动物</th>\n      <th></th>\n      <th></th>\n      <th></th>\n      <th></th>\n      <th></th>\n    </tr>\n  </thead>\n  <tbody>\n    <tr>\n      <th>人类</th>\n      <td>杂食动物</td>\n      <td>是</td>\n      <td>否</td>\n      <td>否</td>\n      <td>是</td>\n    </tr>\n    <tr>\n      <th>野猪</th>\n      <td>杂食动物</td>\n      <td>是</td>\n      <td>否</td>\n      <td>否</td>\n      <td>是</td>\n    </tr>\n    <tr>\n      <th>狮子</th>\n      <td>肉食动物</td>\n      <td>是</td>\n      <td>否</td>\n      <td>否</td>\n      <td>是</td>\n    </tr>\n    <tr>\n      <th>苍鹰</th>\n      <td>肉食动物</td>\n      <td>否</td>\n      <td>否</td>\n      <td>是</td>\n      <td>否</td>\n    </tr>\n    <tr>\n      <th>鳄鱼</th>\n      <td>肉食动物</td>\n      <td>否</td>\n      <td>是</td>\n      <td>否</td>\n      <td>否</td>\n    </tr>\n    <tr>\n      <th>巨蜥</th>\n      <td>肉食动物</td>\n      <td>否</td>\n      <td>否</td>\n      <td>否</td>\n      <td>否</td>\n    </tr>\n    <tr>\n      <th>蝙蝠</th>\n      <td>杂食动物</td>\n      <td>是</td>\n      <td>否</td>\n      <td>是</td>\n      <td>是</td>\n    </tr>\n    <tr>\n      <th>野牛</th>\n      <td>草食动物</td>\n      <td>是</td>\n      <td>否</td>\n      <td>否</td>\n      <td>是</td>\n    </tr>\n    <tr>\n      <th>麻雀</th>\n      <td>杂食动物</td>\n      <td>否</td>\n      <td>否</td>\n      <td>是</td>\n      <td>否</td>\n    </tr>\n    <tr>\n      <th>鲨鱼</th>\n      <td>肉食动物</td>\n      <td>否</td>\n      <td>是</td>\n      <td>否</td>\n      <td>否</td>\n    </tr>\n    <tr>\n      <th>海豚</th>\n      <td>肉食动物</td>\n      <td>是</td>\n      <td>是</td>\n      <td>否</td>\n      <td>是</td>\n    </tr>\n    <tr>\n      <th>鸭嘴兽</th>\n      <td>肉食动物</td>\n      <td>否</td>\n      <td>否</td>\n      <td>否</td>\n      <td>是</td>\n    </tr>\n    <tr>\n      <th>袋鼠</th>\n      <td>草食动物</td>\n      <td>是</td>\n      <td>否</td>\n      <td>否</td>\n      <td>是</td>\n    </tr>\n    <tr>\n      <th>蟒蛇</th>\n      <td>肉食动物</td>\n      <td>否</td>\n      <td>否</td>\n      <td>否</td>\n      <td>否</td>\n    </tr>\n  </tbody>\n</table>\n</div>"
     },
     "execution_count": 11,
     "metadata": {},
     "output_type": "execute_result"
    }
   ],
   "source": [
    "dataset = {\n",
    "    '动物': ['人类', '野猪', '狮子', '苍鹰', '鳄鱼', '巨蜥', '蝙蝠', '野牛', '麻雀', '鲨鱼', '海豚', '鸭嘴兽', '袋鼠', '蟒蛇'],\n",
    "    '饮食习性': ['杂食动物', '杂食动物', '肉食动物', '肉食动物', '肉食动物', '肉食动物', '杂食动物', '草食动物', '杂食动物', '肉食动物', '肉食动物', '肉食动物', '草食动物', '肉食动物'],\n",
    "    '胎生动物': ['是', '是', '是', '否', '否', '否', '是', '是', '否', '否', '是', '否', '是', '否'],\n",
    "    '水生动物': ['否', '否', '否', '否', '是', '否', '否', '否', '否', '是', '是', '否', '否', '否'],\n",
    "    '会飞': ['否', '否', '否', '是', '否', '否', '是', '否', '是', '否', '否', '否', '否', '否'],\n",
    "    '哺乳动物': ['是', '是', '是', '否', '否', '否', '是', '是', '否', '否', '是', '是', '是', '否'],\n",
    "}\n",
    "df = pd.DataFrame(dataset)\n",
    "df = df.set_index('动物')\n",
    "df"
   ],
   "metadata": {
    "collapsed": false,
    "ExecuteTime": {
     "end_time": "2024-01-17T08:15:51.200407100Z",
     "start_time": "2024-01-17T08:15:51.185431400Z"
    }
   },
   "id": "4f0500f505a00dca"
  },
  {
   "cell_type": "code",
   "execution_count": 18,
   "outputs": [
    {
     "data": {
      "text/plain": "0.9852281360342515"
     },
     "execution_count": 18,
     "metadata": {},
     "output_type": "execute_result"
    }
   ],
   "source": [
    "def entropy(series) -> float:\n",
    "    \"\"\"计算一列特征值的熵\"\"\"\n",
    "    n = len(series)\n",
    "    items = series.unique()\n",
    "    ps = [0] * len(items)\n",
    "    \n",
    "    for i, item in enumerate(series.unique()):\n",
    "        ps[i] = 1.0 * len(series[series==item]) / n\n",
    "    \n",
    "    return -np.log2(ps).dot(ps)\n",
    "        \n",
    "entropy(df['哺乳动物'])"
   ],
   "metadata": {
    "collapsed": false,
    "ExecuteTime": {
     "end_time": "2024-01-17T08:24:54.789937100Z",
     "start_time": "2024-01-17T08:24:54.765781700Z"
    }
   },
   "id": "42cff368283707f4"
  },
  {
   "cell_type": "code",
   "execution_count": 21,
   "outputs": [
    {
     "data": {
      "text/plain": "0.20804352737451925"
     },
     "execution_count": 21,
     "metadata": {},
     "output_type": "execute_result"
    }
   ],
   "source": [
    "def gain(dataframe, feature, target) -> float:\n",
    "    \"\"\"计算信息增益\"\"\"\n",
    "    e = entropy(df[target])\n",
    "    items = dataframe[feature].unique()\n",
    "    ns = [0] * len(items)\n",
    "    es = [0] * len(items)\n",
    "    for i, item in enumerate(items):\n",
    "        ns[i] = len(dataframe[dataframe[feature]==item])\n",
    "        es[i] = entropy(dataframe[dataframe[feature]==item][target])\n",
    "\n",
    "    return e - np.array(es).dot(np.array(ns) / len(dataframe))\n",
    "\n",
    "# 选择饮食习性作为分支属性后，数据集获得的信息增益\n",
    "gain(df, '饮食习性', '哺乳动物')"
   ],
   "metadata": {
    "collapsed": false,
    "ExecuteTime": {
     "end_time": "2024-01-17T08:40:17.886224600Z",
     "start_time": "2024-01-17T08:40:17.849048800Z"
    }
   },
   "id": "10d787d6e215e5f3"
  },
  {
   "cell_type": "code",
   "execution_count": 23,
   "outputs": [
    {
     "name": "stdout",
     "output_type": "stream",
     "text": [
      "饮食习性 0.20804352737451925\n",
      "胎生动物 0.6893917467430878\n",
      "水生动物 0.0454316465506438\n",
      "会飞 0.0454316465506438\n"
     ]
    }
   ],
   "source": [
    "for column in df.columns[:4]:\n",
    "    print(column, gain(df, column, '哺乳动物'))"
   ],
   "metadata": {
    "collapsed": false,
    "ExecuteTime": {
     "end_time": "2024-01-17T08:43:42.801110600Z",
     "start_time": "2024-01-17T08:43:42.766505Z"
    }
   },
   "id": "ef13f10e2cdc2b5b"
  },
  {
   "cell_type": "code",
   "execution_count": 26,
   "outputs": [
    {
     "name": "stdout",
     "output_type": "stream",
     "text": [
      "0.20804352737451925\n"
     ]
    },
    {
     "data": {
      "text/plain": "0.15088919207213097"
     },
     "execution_count": 26,
     "metadata": {},
     "output_type": "execute_result"
    }
   ],
   "source": [
    "def gain_ratio(dataframe, feature, target) -> float:\n",
    "    \"\"\"计算信息增益率\"\"\"\n",
    "    g = gain(dataframe, feature, target)\n",
    "    n = len(dataframe)\n",
    "    items = dataframe[feature].unique()\n",
    "    ns = [0] * len(items)\n",
    "    for i, item in enumerate(items):\n",
    "        ns[i] = len(dataframe[dataframe[feature]==item])\n",
    "    vect = np.array(ns) / 1.0 / n\n",
    "\n",
    "    return g / -(vect.dot(np.log2(vect)))\n",
    "\n",
    "gain_ratio(df, '饮食习性', '哺乳动物')"
   ],
   "metadata": {
    "collapsed": false,
    "ExecuteTime": {
     "end_time": "2024-01-17T09:05:06.459520400Z",
     "start_time": "2024-01-17T09:05:06.437504600Z"
    }
   },
   "id": "3fe52f6a4e6e9f3a"
  },
  {
   "cell_type": "code",
   "execution_count": null,
   "outputs": [],
   "source": [],
   "metadata": {
    "collapsed": false
   },
   "id": "6d468ea0740fd83f"
  }
 ],
 "metadata": {
  "kernelspec": {
   "display_name": "Python 3",
   "language": "python",
   "name": "python3"
  },
  "language_info": {
   "codemirror_mode": {
    "name": "ipython",
    "version": 2
   },
   "file_extension": ".py",
   "mimetype": "text/x-python",
   "name": "python",
   "nbconvert_exporter": "python",
   "pygments_lexer": "ipython2",
   "version": "2.7.6"
  }
 },
 "nbformat": 4,
 "nbformat_minor": 5
}
