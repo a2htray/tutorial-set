{
 "cells": [
  {
   "cell_type": "code",
   "execution_count": 1,
   "id": "initial_id",
   "metadata": {
    "collapsed": true,
    "ExecuteTime": {
     "end_time": "2024-01-22T08:13:12.539754700Z",
     "start_time": "2024-01-22T08:13:12.170931600Z"
    }
   },
   "outputs": [],
   "source": [
    "from sklearn.model_selection import KFold, cross_val_score\n",
    "from sklearn.ensemble import AdaBoostClassifier\n",
    "from sklearn.tree import DecisionTreeClassifier\n",
    "from sklearn import datasets"
   ]
  },
  {
   "cell_type": "code",
   "execution_count": 2,
   "outputs": [],
   "source": [
    "dataset = datasets.load_breast_cancer()\n",
    "x = dataset.data\n",
    "y = dataset.target"
   ],
   "metadata": {
    "collapsed": false,
    "ExecuteTime": {
     "end_time": "2024-01-22T08:13:35.493175400Z",
     "start_time": "2024-01-22T08:13:35.463136500Z"
    }
   },
   "id": "2c3286b7a69ee327"
  },
  {
   "cell_type": "code",
   "execution_count": 5,
   "outputs": [
    {
     "name": "stdout",
     "output_type": "stream",
     "text": [
      "决策树结果： 0.9384711779448622\n",
      "提升法改进结果： 0.9666353383458647\n"
     ]
    }
   ],
   "source": [
    "seed = 42\n",
    "kfold = KFold(n_splits=10, shuffle=True, random_state=seed)\n",
    "clf = DecisionTreeClassifier(criterion='gini', max_depth=3)\n",
    "clf = clf.fit(x, y)\n",
    "print('决策树结果：', cross_val_score(clf, x, y, cv=kfold).mean())\n",
    "\n",
    "clf = AdaBoostClassifier(base_estimator=clf, n_estimators=100, random_state=seed)\n",
    "print('提升法改进结果：', cross_val_score(clf, x, y, cv=kfold).mean())"
   ],
   "metadata": {
    "collapsed": false,
    "ExecuteTime": {
     "end_time": "2024-01-22T08:16:28.034856600Z",
     "start_time": "2024-01-22T08:16:24.965890200Z"
    }
   },
   "id": "751e1e60f500ec07"
  },
  {
   "cell_type": "code",
   "execution_count": null,
   "outputs": [],
   "source": [],
   "metadata": {
    "collapsed": false
   },
   "id": "981899e76c5976a2"
  }
 ],
 "metadata": {
  "kernelspec": {
   "display_name": "Python 3",
   "language": "python",
   "name": "python3"
  },
  "language_info": {
   "codemirror_mode": {
    "name": "ipython",
    "version": 2
   },
   "file_extension": ".py",
   "mimetype": "text/x-python",
   "name": "python",
   "nbconvert_exporter": "python",
   "pygments_lexer": "ipython2",
   "version": "2.7.6"
  }
 },
 "nbformat": 4,
 "nbformat_minor": 5
}
