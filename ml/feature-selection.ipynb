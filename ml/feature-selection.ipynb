{
 "cells": [
  {
   "cell_type": "code",
   "execution_count": 4,
   "id": "initial_id",
   "metadata": {
    "collapsed": true,
    "ExecuteTime": {
     "end_time": "2024-01-16T08:50:20.877521300Z",
     "start_time": "2024-01-16T08:50:20.855523300Z"
    }
   },
   "outputs": [],
   "source": [
    "import scipy\n",
    "import pandas as pd\n",
    "import numpy as np"
   ]
  },
  {
   "cell_type": "code",
   "execution_count": 15,
   "outputs": [
    {
     "data": {
      "text/plain": "      Iy    PF     e    dIf     If\n0    3.0  0.66  0.34  0.383  1.563\n1    3.0  0.68  0.32  0.372  1.552\n2    3.0  0.70  0.30  0.360  1.540\n3    3.0  0.72  0.28  0.338  1.518\n4    3.0  0.74  0.26  0.317  1.497\n..   ...   ...   ...    ...    ...\n552  6.0  0.91  0.09  0.142  1.322\n553  6.0  0.93  0.07  0.151  1.331\n554  6.0  0.95  0.05  0.160  1.340\n555  6.0  0.97  0.03  0.160  1.340\n556  6.0  0.99  0.01  0.160  1.340\n\n[557 rows x 5 columns]",
      "text/html": "<div>\n<style scoped>\n    .dataframe tbody tr th:only-of-type {\n        vertical-align: middle;\n    }\n\n    .dataframe tbody tr th {\n        vertical-align: top;\n    }\n\n    .dataframe thead th {\n        text-align: right;\n    }\n</style>\n<table border=\"1\" class=\"dataframe\">\n  <thead>\n    <tr style=\"text-align: right;\">\n      <th></th>\n      <th>Iy</th>\n      <th>PF</th>\n      <th>e</th>\n      <th>dIf</th>\n      <th>If</th>\n    </tr>\n  </thead>\n  <tbody>\n    <tr>\n      <th>0</th>\n      <td>3.0</td>\n      <td>0.66</td>\n      <td>0.34</td>\n      <td>0.383</td>\n      <td>1.563</td>\n    </tr>\n    <tr>\n      <th>1</th>\n      <td>3.0</td>\n      <td>0.68</td>\n      <td>0.32</td>\n      <td>0.372</td>\n      <td>1.552</td>\n    </tr>\n    <tr>\n      <th>2</th>\n      <td>3.0</td>\n      <td>0.70</td>\n      <td>0.30</td>\n      <td>0.360</td>\n      <td>1.540</td>\n    </tr>\n    <tr>\n      <th>3</th>\n      <td>3.0</td>\n      <td>0.72</td>\n      <td>0.28</td>\n      <td>0.338</td>\n      <td>1.518</td>\n    </tr>\n    <tr>\n      <th>4</th>\n      <td>3.0</td>\n      <td>0.74</td>\n      <td>0.26</td>\n      <td>0.317</td>\n      <td>1.497</td>\n    </tr>\n    <tr>\n      <th>...</th>\n      <td>...</td>\n      <td>...</td>\n      <td>...</td>\n      <td>...</td>\n      <td>...</td>\n    </tr>\n    <tr>\n      <th>552</th>\n      <td>6.0</td>\n      <td>0.91</td>\n      <td>0.09</td>\n      <td>0.142</td>\n      <td>1.322</td>\n    </tr>\n    <tr>\n      <th>553</th>\n      <td>6.0</td>\n      <td>0.93</td>\n      <td>0.07</td>\n      <td>0.151</td>\n      <td>1.331</td>\n    </tr>\n    <tr>\n      <th>554</th>\n      <td>6.0</td>\n      <td>0.95</td>\n      <td>0.05</td>\n      <td>0.160</td>\n      <td>1.340</td>\n    </tr>\n    <tr>\n      <th>555</th>\n      <td>6.0</td>\n      <td>0.97</td>\n      <td>0.03</td>\n      <td>0.160</td>\n      <td>1.340</td>\n    </tr>\n    <tr>\n      <th>556</th>\n      <td>6.0</td>\n      <td>0.99</td>\n      <td>0.01</td>\n      <td>0.160</td>\n      <td>1.340</td>\n    </tr>\n  </tbody>\n</table>\n<p>557 rows × 5 columns</p>\n</div>"
     },
     "execution_count": 15,
     "metadata": {},
     "output_type": "execute_result"
    }
   ],
   "source": [
    "def str_to_float(s: str) -> float:\n",
    "    s = s.replace(',', '.')\n",
    "    return float(s)\n",
    "\n",
    "df = pd.read_csv('./example-data/synchronous machine.csv', delimiter=';')\n",
    "\n",
    "df['Iy'] = df['Iy'].map(str_to_float)\n",
    "df['PF'] = df['PF'].map(str_to_float)\n",
    "df['e'] = df['e'].map(str_to_float)\n",
    "df['dIf'] = df['dIf'].map(str_to_float)\n",
    "df['If'] = df['If'].map(str_to_float)\n",
    "\n",
    "df"
   ],
   "metadata": {
    "collapsed": false,
    "ExecuteTime": {
     "end_time": "2024-01-16T09:02:35.687755300Z",
     "start_time": "2024-01-16T09:02:35.667756600Z"
    }
   },
   "id": "b01398aea1084ae1"
  },
  {
   "cell_type": "code",
   "execution_count": 5,
   "outputs": [
    {
     "data": {
      "text/plain": "12.0"
     },
     "execution_count": 5,
     "metadata": {},
     "output_type": "execute_result"
    }
   ],
   "source": [
    "np.mean([1, 23])"
   ],
   "metadata": {
    "collapsed": false,
    "ExecuteTime": {
     "end_time": "2024-01-16T08:51:19.641587400Z",
     "start_time": "2024-01-16T08:51:19.563484Z"
    }
   },
   "id": "c708bffcea4deb55"
  },
  {
   "cell_type": "code",
   "execution_count": 25,
   "outputs": [],
   "source": [
    "def pearson(xs, ys):\n",
    "    \"\"\"pearson 相关系数\"\"\"\n",
    "    x_mean = np.mean(xs)\n",
    "    y_mean = np.mean(ys)\n",
    "    return np.dot(xs - x_mean, ys - y_mean) / np.sqrt(np.sum(np.power(xs - x_mean, 2))) / np.sqrt(np.sum(np.power(ys - y_mean, 2)))"
   ],
   "metadata": {
    "collapsed": false,
    "ExecuteTime": {
     "end_time": "2024-01-16T09:08:55.582983400Z",
     "start_time": "2024-01-16T09:08:55.555759600Z"
    }
   },
   "id": "3034e38f935536f0"
  },
  {
   "cell_type": "code",
   "execution_count": 27,
   "outputs": [
    {
     "name": "stdout",
     "output_type": "stream",
     "text": [
      "Pearson<Iy-If>: 0.4249449073594647\n",
      "Pearson<PF-If>: -0.8610134695270651\n",
      "Pearson<e-If>: 0.861013469527065\n",
      "Pearson<dIf-If>: 0.9999999999999998\n"
     ]
    }
   ],
   "source": [
    "for column in ['Iy', 'PF', 'e', 'dIf']:\n",
    "    print(f\"Pearson<{column}-If>: {pearson(df[column], df['If'])}\")"
   ],
   "metadata": {
    "collapsed": false,
    "ExecuteTime": {
     "end_time": "2024-01-16T09:10:59.995068200Z",
     "start_time": "2024-01-16T09:10:59.933573500Z"
    }
   },
   "id": "60a85077c0a5d5f3"
  },
  {
   "cell_type": "code",
   "execution_count": null,
   "outputs": [],
   "source": [],
   "metadata": {
    "collapsed": false
   },
   "id": "19e944d36ca32f1d"
  }
 ],
 "metadata": {
  "kernelspec": {
   "display_name": "Python 3",
   "language": "python",
   "name": "python3"
  },
  "language_info": {
   "codemirror_mode": {
    "name": "ipython",
    "version": 2
   },
   "file_extension": ".py",
   "mimetype": "text/x-python",
   "name": "python",
   "nbconvert_exporter": "python",
   "pygments_lexer": "ipython2",
   "version": "2.7.6"
  }
 },
 "nbformat": 4,
 "nbformat_minor": 5
}
